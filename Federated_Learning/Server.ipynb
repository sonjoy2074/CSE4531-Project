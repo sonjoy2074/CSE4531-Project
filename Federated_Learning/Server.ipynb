{
  "nbformat": 4,
  "nbformat_minor": 0,
  "metadata": {
    "colab": {
      "provenance": [],
      "mount_file_id": "1rDP3K8fTq-P3N_D-RoCMdOSahIPs0DI8",
      "authorship_tag": "ABX9TyN0DTCW8mhSYBr1zIMvyJFR",
      "include_colab_link": true
    },
    "kernelspec": {
      "name": "python3",
      "display_name": "Python 3"
    },
    "language_info": {
      "name": "python"
    }
  },
  "cells": [
    {
      "cell_type": "markdown",
      "metadata": {
        "id": "view-in-github",
        "colab_type": "text"
      },
      "source": [
        "<a href=\"https://colab.research.google.com/github/sonjoy2074/CSE4531-Project/blob/main/Federated_Learning/Server.ipynb\" target=\"_parent\"><img src=\"https://colab.research.google.com/assets/colab-badge.svg\" alt=\"Open In Colab\"/></a>"
      ]
    },
    {
      "cell_type": "code",
      "source": [
        "import torch\n",
        "import copy\n",
        "import torch.nn as nn\n",
        "\n",
        "from transformers import ViTForImageClassification\n",
        "\n",
        "\n",
        "# Load local models\n",
        "local_model_1 = torch.load('/content/drive/MyDrive/Models/doctor_1.pth')\n",
        "local_model_2 = torch.load('/content/drive/MyDrive/Models/doctor_2.pth')\n",
        "\n",
        "# Initialize the global model with the same structure\n",
        "model = ViTForImageClassification.from_pretrained('google/vit-base-patch16-224')\n",
        "n_inputs = model.classifier.in_features\n",
        "model.classifier = nn.Sequential(\n",
        "    nn.Linear(n_inputs, 512),\n",
        "    nn.ReLU(),\n",
        "    nn.Dropout(0.3),\n",
        "    nn.Linear(512, len(local_model_1['classes']))\n",
        ")\n",
        "\n",
        "global_state_dict = copy.deepcopy(local_model_1['model_state_dict'])\n",
        "\n",
        "# Average the parameters\n",
        "for key in global_state_dict:\n",
        "    global_state_dict[key] = (local_model_1['model_state_dict'][key] + local_model_2['model_state_dict'][key]) / 2\n",
        "\n",
        "# Load averaged weights into the global model\n",
        "model.load_state_dict(global_state_dict)\n",
        "\n",
        "# Save the global model\n",
        "torch.save({\n",
        "    'model_state_dict': model.state_dict(),\n",
        "    'classes': local_model_1['classes']\n",
        "}, '/content/drive/MyDrive/Models/global_model_2.pth')\n",
        "\n",
        "print(\"Global model saved as 'global_model.pth'\")\n"
      ],
      "metadata": {
        "colab": {
          "base_uri": "https://localhost:8080/"
        },
        "id": "uLJtn4oFM0TL",
        "outputId": "0daf6e42-4f4c-4917-e19e-f1cb12de17c3"
      },
      "execution_count": null,
      "outputs": [
        {
          "output_type": "stream",
          "name": "stderr",
          "text": [
            "<ipython-input-3-00065d101b4a>:9: FutureWarning: You are using `torch.load` with `weights_only=False` (the current default value), which uses the default pickle module implicitly. It is possible to construct malicious pickle data which will execute arbitrary code during unpickling (See https://github.com/pytorch/pytorch/blob/main/SECURITY.md#untrusted-models for more details). In a future release, the default value for `weights_only` will be flipped to `True`. This limits the functions that could be executed during unpickling. Arbitrary objects will no longer be allowed to be loaded via this mode unless they are explicitly allowlisted by the user via `torch.serialization.add_safe_globals`. We recommend you start setting `weights_only=True` for any use case where you don't have full control of the loaded file. Please open an issue on GitHub for any issues related to this experimental feature.\n",
            "  local_model_1 = torch.load('/content/drive/MyDrive/Models/doctor_1.pth')\n",
            "<ipython-input-3-00065d101b4a>:10: FutureWarning: You are using `torch.load` with `weights_only=False` (the current default value), which uses the default pickle module implicitly. It is possible to construct malicious pickle data which will execute arbitrary code during unpickling (See https://github.com/pytorch/pytorch/blob/main/SECURITY.md#untrusted-models for more details). In a future release, the default value for `weights_only` will be flipped to `True`. This limits the functions that could be executed during unpickling. Arbitrary objects will no longer be allowed to be loaded via this mode unless they are explicitly allowlisted by the user via `torch.serialization.add_safe_globals`. We recommend you start setting `weights_only=True` for any use case where you don't have full control of the loaded file. Please open an issue on GitHub for any issues related to this experimental feature.\n",
            "  local_model_2 = torch.load('/content/drive/MyDrive/Models/doctor_2.pth')\n"
          ]
        },
        {
          "output_type": "stream",
          "name": "stdout",
          "text": [
            "Global model saved as 'global_model.pth'\n"
          ]
        }
      ]
    }
  ]
}